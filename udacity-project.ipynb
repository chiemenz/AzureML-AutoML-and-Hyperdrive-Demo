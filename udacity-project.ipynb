{
 "cells": [
  {
   "cell_type": "code",
   "execution_count": 46,
   "metadata": {
    "gather": {
     "logged": 1598275788035
    }
   },
   "outputs": [
    {
     "name": "stdout",
     "output_type": "stream",
     "text": [
      "Workspace name: quick-starts-ws-132652\n",
      "Azure region: southcentralus\n",
      "Subscription id: cdbe0b43-92a0-4715-838a-f2648cc7ad21\n",
      "Resource group: aml-quickstarts-132652\n"
     ]
    }
   ],
   "source": [
    "from azureml.core import Workspace, Experiment\n",
    "\n",
    "ws = Workspace.get(name=\"quick-starts-ws-132652\")\n",
    "exp = Experiment(workspace=ws, name=\"udacity-project-hyper\")\n",
    "\n",
    "print('Workspace name: ' + ws.name, \n",
    "      'Azure region: ' + ws.location, \n",
    "      'Subscription id: ' + ws.subscription_id, \n",
    "      'Resource group: ' + ws.resource_group, sep = '\\n')\n",
    "\n",
    "run = exp.start_logging()"
   ]
  },
  {
   "cell_type": "code",
   "execution_count": 47,
   "metadata": {
    "gather": {
     "logged": 1598275788675
    },
    "jupyter": {
     "outputs_hidden": false,
     "source_hidden": false
    },
    "nteract": {
     "transient": {
      "deleting": false
     }
    }
   },
   "outputs": [
    {
     "name": "stdout",
     "output_type": "stream",
     "text": [
      "Found existing Comput Target\n",
      "Succeeded\n",
      "AmlCompute wait for completion finished\n",
      "\n",
      "Minimum number of nodes requested have been provisioned\n"
     ]
    }
   ],
   "source": [
    "from azureml.core.compute import ComputeTarget, AmlCompute\n",
    "from azureml.core.compute_target import ComputeTargetException\n",
    "\n",
    "cpu_cluster_name = \"cpu-cluster-2\"\n",
    "try:\n",
    "    compute_target = ComputeTarget(workspace=ws, name=cpu_cluster_name)\n",
    "    print(\"Found existing Comput Target\")\n",
    "except ComputeTargetException:\n",
    "    compute_config = AmlCompute.provisioning_configuration(vm_size = \"Standard_D2_V2\", max_nodes=4)\n",
    "    compute_target = ComputeTarget.create(ws, cpu_cluster_name, compute_config)\n",
    "\n",
    "compute_target.wait_for_completion(show_output=True)\n",
    "\n",
    "### YOUR CODE HERE ###"
   ]
  },
  {
   "cell_type": "code",
   "execution_count": 48,
   "metadata": {
    "gather": {
     "logged": 1598275789986
    },
    "jupyter": {
     "outputs_hidden": false,
     "source_hidden": false
    },
    "nteract": {
     "transient": {
      "deleting": false
     }
    }
   },
   "outputs": [
    {
     "name": "stderr",
     "output_type": "stream",
     "text": [
      "WARNING:azureml.train.sklearn:'SKLearn' estimator is deprecated. Please use 'ScriptRunConfig' from 'azureml.core.script_run_config' with your own defined environment or the AzureML-Tutorial curated environment.\n"
     ]
    }
   ],
   "source": [
    "from azureml.widgets import RunDetails\n",
    "from azureml.train.sklearn import SKLearn\n",
    "from azureml.train.hyperdrive.run import PrimaryMetricGoal\n",
    "from azureml.train.hyperdrive.policy import BanditPolicy\n",
    "from azureml.train.hyperdrive.sampling import RandomParameterSampling\n",
    "from azureml.train.hyperdrive.runconfig import HyperDriveConfig\n",
    "from azureml.train.hyperdrive.parameter_expressions import uniform, choice, loguniform\n",
    "import os\n",
    "\n",
    "# Specify parameter sampler\n",
    "ps1 = RandomParameterSampling(\n",
    "     {\"--C\": loguniform(-3,2), \"--max_iter\": choice(1,5,10,20,30,40,50,80,100,200,400,800,1000)}\n",
    ")\n",
    "\n",
    "### YOUR CODE HERE ###\n",
    "\n",
    "# Specify a Policy\n",
    "policy = BanditPolicy(evaluation_interval=2, slack_factor=0.1)\n",
    "### YOUR CODE HERE ###\n",
    "\n",
    "if \"training\" not in os.listdir():\n",
    "    os.mkdir(\"./training\")\n",
    "\n",
    "# Create a SKLearn estimator for use with train.py\n",
    "arguments = {\"--C\": 1.0, \"--max_iter\": 100}\n",
    "current_dir = os.getcwd()\n",
    "est = SKLearn(source_directory=current_dir, \n",
    "              entry_script=\"train.py\",\n",
    "              compute_target = compute_target,\n",
    "              script_params = arguments)\n",
    "\n",
    "### YOUR CODE HERE ###\n",
    "\n",
    "# Create a HyperDriveConfig using the estimator, hyperparameter sampler, and policy.\n",
    "hyperdrive_config = HyperDriveConfig(\n",
    "    estimator=est,\n",
    "    hyperparameter_sampling=ps1,\n",
    "    primary_metric_name=\"Accuracy\",\n",
    "    primary_metric_goal= PrimaryMetricGoal.MAXIMIZE,\n",
    "    max_total_runs=20,\n",
    "    max_concurrent_runs=2\n",
    ")"
   ]
  },
  {
   "cell_type": "code",
   "execution_count": 49,
   "metadata": {},
   "outputs": [
    {
     "name": "stderr",
     "output_type": "stream",
     "text": [
      "WARNING:root:If 'script' has been provided here and a script file name has been specified in 'run_config', 'script' provided in ScriptRunConfig initialization will take precedence.\n",
      "WARNING:root:If 'arguments' has been provided here and arguments have been specified in 'run_config', 'arguments' provided in ScriptRunConfig initialization will take precedence.\n"
     ]
    }
   ],
   "source": [
    "# Submit your hyperdrive run to the experiment and show run details with the widget.\n",
    "run_hyper = exp.submit(config=hyperdrive_config)\n",
    "### YOUR CODE HERE ###"
   ]
  },
  {
   "cell_type": "code",
   "execution_count": null,
   "metadata": {},
   "outputs": [
    {
     "name": "stdout",
     "output_type": "stream",
     "text": [
      "RunId: HD_f5269347-240f-45d5-8554-dc1c5b9aeb9e\n",
      "Web View: https://ml.azure.com/experiments/udacity-project-hyper/runs/HD_f5269347-240f-45d5-8554-dc1c5b9aeb9e?wsid=/subscriptions/cdbe0b43-92a0-4715-838a-f2648cc7ad21/resourcegroups/aml-quickstarts-132652/workspaces/quick-starts-ws-132652\n",
      "\n",
      "Streaming azureml-logs/hyperdrive.txt\n",
      "=====================================\n",
      "\n",
      "\"<START>[2020-12-31T17:23:54.124685][API][INFO]Experiment created<END>\\n\"\"<START>[2020-12-31T17:23:54.748461][GENERATOR][INFO]Trying to sample '2' jobs from the hyperparameter space<END>\\n\"\"<START>[2020-12-31T17:23:54.890359][GENERATOR][INFO]Successfully sampled '2' jobs, they will soon be submitted to the execution target.<END>\\n\"<START>[2020-12-31T17:23:55.6981247Z][SCHEDULER][INFO]The execution environment is being prepared. Please be patient as it can take a few minutes.<END>\n"
     ]
    }
   ],
   "source": [
    "run_hyper.wait_for_completion(show_output=True)"
   ]
  },
  {
   "cell_type": "code",
   "execution_count": null,
   "metadata": {},
   "outputs": [],
   "source": [
    "import joblib\n",
    "best_run = run_hyper.get_best_run_by_primary_metric()"
   ]
  },
  {
   "cell_type": "code",
   "execution_count": null,
   "metadata": {},
   "outputs": [],
   "source": [
    "print(best_run.get_file_names())"
   ]
  },
  {
   "cell_type": "code",
   "execution_count": null,
   "metadata": {},
   "outputs": [],
   "source": [
    "model = best_run.register_model(workspace=ws, model_name=\"best-hyper-model\", model_path=\"outputs/model.joblib\")"
   ]
  },
  {
   "cell_type": "code",
   "execution_count": 26,
   "metadata": {},
   "outputs": [
    {
     "data": {
      "text/plain": [
       "['DELIM',\n",
       " 'EXPERIMENT_PATH',\n",
       " 'RUN_PATH',\n",
       " 'WORKSPACE_FMT',\n",
       " '_DEFAULT_GET_CONTENT_TIMEOUT',\n",
       " '_RUNSOURCE_PROPERTY',\n",
       " '_WAIT_COMPLETION_POLLING_INTERVAL_MAX',\n",
       " '_WAIT_COMPLETION_POLLING_INTERVAL_MIN',\n",
       " '__class__',\n",
       " '__delattr__',\n",
       " '__dict__',\n",
       " '__dir__',\n",
       " '__doc__',\n",
       " '__enter__',\n",
       " '__eq__',\n",
       " '__exit__',\n",
       " '__format__',\n",
       " '__ge__',\n",
       " '__getattribute__',\n",
       " '__gt__',\n",
       " '__hash__',\n",
       " '__init__',\n",
       " '__init_subclass__',\n",
       " '__le__',\n",
       " '__lt__',\n",
       " '__module__',\n",
       " '__ne__',\n",
       " '__new__',\n",
       " '__reduce__',\n",
       " '__reduce_ex__',\n",
       " '__repr__',\n",
       " '__setattr__',\n",
       " '__sizeof__',\n",
       " '__str__',\n",
       " '__subclasshook__',\n",
       " '__weakref__',\n",
       " '_cleanup',\n",
       " '_client',\n",
       " '_container',\n",
       " '_context_manager',\n",
       " '_create',\n",
       " '_download_artifact_contents_to_string',\n",
       " '_dto_to_run',\n",
       " '_experiment',\n",
       " '_experiment_url',\n",
       " '_get_base_info_dict',\n",
       " '_get_blob_azureml_datastore',\n",
       " '_get_last_log_primary_instance',\n",
       " '_get_logs',\n",
       " '_get_outputs_datapath',\n",
       " '_get_portal_domain',\n",
       " '_heartbeat',\n",
       " '_identity',\n",
       " '_kill',\n",
       " '_load_scope',\n",
       " '_log_context',\n",
       " '_logger',\n",
       " '_outputs',\n",
       " '_parent_run',\n",
       " '_portal_url',\n",
       " '_register_kill_handler',\n",
       " '_registered_kill_handlers',\n",
       " '_rehydrate_runs',\n",
       " '_repr_html_',\n",
       " '_root_run_id',\n",
       " '_run_details_url',\n",
       " '_run_dto',\n",
       " '_run_id',\n",
       " '_run_name',\n",
       " '_run_number',\n",
       " '_run_source',\n",
       " '_run_source_initializers',\n",
       " '_runtype',\n",
       " '_start_logging',\n",
       " '_stream_run_output',\n",
       " '_update_dataset_lineage',\n",
       " '_update_output_dataset_lineage',\n",
       " '_wait_before_polling',\n",
       " '_workspace_url',\n",
       " 'add_properties',\n",
       " 'add_type_provider',\n",
       " 'cancel',\n",
       " 'child_run',\n",
       " 'clean',\n",
       " 'complete',\n",
       " 'create_children',\n",
       " 'download_file',\n",
       " 'download_files',\n",
       " 'experiment',\n",
       " 'fail',\n",
       " 'flush',\n",
       " 'get',\n",
       " 'get_all_logs',\n",
       " 'get_children',\n",
       " 'get_context',\n",
       " 'get_created_from_content',\n",
       " 'get_detailed_status',\n",
       " 'get_details',\n",
       " 'get_details_with_logs',\n",
       " 'get_docs_url',\n",
       " 'get_environment',\n",
       " 'get_file_names',\n",
       " 'get_metrics',\n",
       " 'get_portal_url',\n",
       " 'get_properties',\n",
       " 'get_secret',\n",
       " 'get_secrets',\n",
       " 'get_snapshot_id',\n",
       " 'get_status',\n",
       " 'get_submitted_run',\n",
       " 'get_tags',\n",
       " 'id',\n",
       " 'identity',\n",
       " 'list',\n",
       " 'list_by_compute',\n",
       " 'log',\n",
       " 'log_accuracy_table',\n",
       " 'log_confusion_matrix',\n",
       " 'log_image',\n",
       " 'log_list',\n",
       " 'log_predictions',\n",
       " 'log_residuals',\n",
       " 'log_row',\n",
       " 'log_table',\n",
       " 'name',\n",
       " 'number',\n",
       " 'parent',\n",
       " 'portal_url',\n",
       " 'properties',\n",
       " 'register_model',\n",
       " 'remove_tags',\n",
       " 'restore_snapshot',\n",
       " 'set_created_from_content',\n",
       " 'set_tags',\n",
       " 'start',\n",
       " 'status',\n",
       " 'submit_child',\n",
       " 'tag',\n",
       " 'tags',\n",
       " 'take_snapshot',\n",
       " 'type',\n",
       " 'upload_file',\n",
       " 'upload_files',\n",
       " 'upload_folder',\n",
       " 'wait_for_completion']"
      ]
     },
     "execution_count": 26,
     "metadata": {},
     "output_type": "execute_result"
    }
   ],
   "source": [
    "dir(best_run)"
   ]
  },
  {
   "cell_type": "code",
   "execution_count": 22,
   "metadata": {
    "gather": {
     "logged": 1598276310862
    },
    "jupyter": {
     "outputs_hidden": false,
     "source_hidden": false
    },
    "nteract": {
     "transient": {
      "deleting": false
     }
    }
   },
   "outputs": [
    {
     "ename": "SyntaxError",
     "evalue": "positional argument follows keyword argument (<ipython-input-22-d5c24c770e18>, line 4)",
     "output_type": "error",
     "traceback": [
      "\u001b[0;36m  File \u001b[0;32m\"<ipython-input-22-d5c24c770e18>\"\u001b[0;36m, line \u001b[0;32m4\u001b[0m\n\u001b[0;31m    model = best_run.register_model(model_name=\"best-hyper-model\", \"outputs/model\")\u001b[0m\n\u001b[0m                                                                  ^\u001b[0m\n\u001b[0;31mSyntaxError\u001b[0m\u001b[0;31m:\u001b[0m positional argument follows keyword argument\n"
     ]
    }
   ],
   "source": [
    "import joblib\n",
    "# Get your best run and save the model from that run.\n",
    "best_run = run_hyper.get_best_run_by_metric()\n",
    "model = best_run.register_model(model_name=\"best-hyper-model\", \"outputs/model\")"
   ]
  },
  {
   "cell_type": "code",
   "execution_count": 5,
   "metadata": {},
   "outputs": [],
   "source": [
    "from azureml.data.dataset_factory import TabularDatasetFactory\n",
    "\n",
    "# Create TabularDataset using TabularDatasetFactory\n",
    "# Data is available at: \n",
    "# \"https://automlsamplenotebookdata.blob.core.windows.net/automl-sample-notebook-data/bankmarketing_train.csv\"\n",
    "ds = TabularDatasetFactory.from_delimited_files(path= \"https://automlsamplenotebookdata.blob.core.windows.net/automl-sample-notebook-data/bankmarketing_train.csv\", header=True, validate=True)"
   ]
  },
  {
   "cell_type": "code",
   "execution_count": 6,
   "metadata": {
    "gather": {
     "logged": 1598275726969
    },
    "jupyter": {
     "outputs_hidden": false,
     "source_hidden": false
    },
    "nteract": {
     "transient": {
      "deleting": false
     }
    }
   },
   "outputs": [],
   "source": [
    "from train import clean_data\n",
    "\n",
    "# Use the clean_data function to clean your data.\n",
    "x, y = clean_data(ds)\n",
    "x['y'] = y"
   ]
  },
  {
   "cell_type": "code",
   "execution_count": 10,
   "metadata": {},
   "outputs": [
    {
     "name": "stderr",
     "output_type": "stream",
     "text": [
      "WARNING:azureml.data._dataset_deprecation:\"Dataset.from_pandas_dataframe\" is deprecated after version 1.0.69. Please use \"Dataset.Tabular.register_pandas_dataframe\" instead. See Dataset API change notice at https://aka.ms/dataset-deprecation.\n"
     ]
    }
   ],
   "source": [
    "from azureml.core import Dataset\n",
    "dataset_in = Dataset.from_pandas_dataframe(x)"
   ]
  },
  {
   "cell_type": "code",
   "execution_count": 17,
   "metadata": {},
   "outputs": [
    {
     "name": "stderr",
     "output_type": "stream",
     "text": [
      "WARNING:azureml.data._dataset_deprecation:DatasetDefinition class is deprecated after version 1.0.69. See Dataset API change notice at https://aka.ms/dataset-deprecation.\n",
      "WARNING:azureml.data._dataset_deprecation:The constructor of Dataset is deprecated after version 1.0.69. Please use factory methods from \"Dataset.Tabular\" and \"Dataset.File\" to create dataset instances. See Dataset API change notice at https://aka.ms/dataset-deprecation.\n"
     ]
    }
   ],
   "source": [
    "dataset_in = dataset_in.register(workspace=ws, name=\"auto-ml-training-data\", description=\"example exercise data\")"
   ]
  },
  {
   "cell_type": "code",
   "execution_count": 18,
   "metadata": {
    "gather": {
     "logged": 1598275665403
    },
    "jupyter": {
     "outputs_hidden": false,
     "source_hidden": false
    },
    "nteract": {
     "transient": {
      "deleting": false
     }
    }
   },
   "outputs": [],
   "source": [
    "from azureml.train.automl import AutoMLConfig\n",
    "\n",
    "# Set parameters for AutoMLConfig\n",
    "# NOTE: DO NOT CHANGE THE experiment_timeout_minutes PARAMETER OR YOUR INSTANCE WILL TIME OUT.\n",
    "# If you wish to run the experiment longer, you will need to run this notebook in your own\n",
    "# Azure tenant, which will incur personal costs.\n",
    "automl_config = AutoMLConfig(\n",
    "    compute_target = compute_target,\n",
    "    experiment_timeout_minutes=30,\n",
    "    task=\"classification\",\n",
    "    primary_metric=\"accuracy\",\n",
    "    training_data=dataset_in,\n",
    "    label_column_name=\"y\",\n",
    "    n_cross_validations=5)"
   ]
  },
  {
   "cell_type": "code",
   "execution_count": 19,
   "metadata": {
    "jupyter": {
     "outputs_hidden": false,
     "source_hidden": false
    },
    "nteract": {
     "transient": {
      "deleting": false
     }
    }
   },
   "outputs": [
    {
     "name": "stdout",
     "output_type": "stream",
     "text": [
      "Running on remote.\n"
     ]
    }
   ],
   "source": [
    "# Submit your automl run\n",
    "run_auto = exp.submit(automl_config, show_output=False)"
   ]
  },
  {
   "cell_type": "code",
   "execution_count": 20,
   "metadata": {},
   "outputs": [
    {
     "name": "stdout",
     "output_type": "stream",
     "text": [
      "\n",
      "\n",
      "ERROR: Setup iteration failed: Unidentified error, check logs in portal / compute\n"
     ]
    },
    {
     "data": {
      "text/plain": [
       "{'runId': 'AutoML_379473b2-1c84-44c0-8562-638f56458135',\n",
       " 'target': 'cpu-cluster-2',\n",
       " 'status': 'Failed',\n",
       " 'startTimeUtc': '2020-12-31T16:54:31.589637Z',\n",
       " 'endTimeUtc': '2020-12-31T16:57:46.421647Z',\n",
       " 'error': {'error': {'code': 'System',\n",
       "   'message': '\\nError Code: StepTranslation\\nValidation Error Code: StepNotReady\\nValidation Target: Step(Microsoft.DPrep.ReferenceBlock)\\nFailed Step: b0046e2b-f21d-4f6a-bd34-87ac5cb0ca37\\nFailed Step Type: Microsoft.DPrep.ReferenceBlock\\nError Message: Referenced activity failed to resolve\\nFailed to resolve reference. FailureReason: ActivityMissing\\n| session_id=bb8c40f9-4ab5-44b4-8b85-9f5990e92d6c',\n",
       "   'messageFormat': 'Failed to get data from DataPrep. ErrorCode: StepTranslation. Message: Referenced activity failed to resolve\\nFailed due to inner exception of type: ActivityReferenceResolutionException\\n| session_id=bb8c40f9-4ab5-44b4-8b85-9f5990e92d6c',\n",
       "   'messageParameters': {},\n",
       "   'detailsUri': 'https://aka.ms/azureml-known-errors',\n",
       "   'details': []},\n",
       "  'time': '0001-01-01T00:00:00.000Z'},\n",
       " 'properties': {'num_iterations': '1000',\n",
       "  'training_type': 'TrainFull',\n",
       "  'acquisition_function': 'EI',\n",
       "  'primary_metric': 'accuracy',\n",
       "  'train_split': '0',\n",
       "  'acquisition_parameter': '0',\n",
       "  'num_cross_validation': '5',\n",
       "  'target': 'cpu-cluster-2',\n",
       "  'AMLSettingsJsonString': '{\"path\":null,\"name\":\"udacity-project-hyper\",\"subscription_id\":\"cdbe0b43-92a0-4715-838a-f2648cc7ad21\",\"resource_group\":\"aml-quickstarts-132652\",\"workspace_name\":\"quick-starts-ws-132652\",\"region\":\"southcentralus\",\"compute_target\":\"cpu-cluster-2\",\"spark_service\":null,\"azure_service\":\"remote\",\"many_models\":false,\"pipeline_fetch_max_batch_size\":1,\"iterations\":1000,\"primary_metric\":\"accuracy\",\"task_type\":\"classification\",\"data_script\":null,\"validation_size\":0.0,\"n_cross_validations\":5,\"y_min\":null,\"y_max\":null,\"num_classes\":null,\"featurization\":\"auto\",\"_ignore_package_version_incompatibilities\":false,\"is_timeseries\":false,\"max_cores_per_iteration\":1,\"max_concurrent_iterations\":1,\"iteration_timeout_minutes\":null,\"mem_in_mb\":null,\"enforce_time_on_windows\":false,\"experiment_timeout_minutes\":30,\"experiment_exit_score\":null,\"whitelist_models\":null,\"blacklist_algos\":[\"TensorFlowLinearClassifier\",\"TensorFlowDNN\"],\"supported_models\":[\"AveragedPerceptronClassifier\",\"SGD\",\"SVM\",\"LinearSVM\",\"DecisionTree\",\"BernoulliNaiveBayes\",\"ExtremeRandomTrees\",\"TensorFlowDNN\",\"LightGBM\",\"KNN\",\"LogisticRegression\",\"MultinomialNaiveBayes\",\"TensorFlowLinearClassifier\",\"GradientBoosting\",\"RandomForest\",\"XGBoostClassifier\"],\"auto_blacklist\":true,\"blacklist_samples_reached\":false,\"exclude_nan_labels\":true,\"verbosity\":20,\"_debug_log\":\"azureml_automl.log\",\"show_warnings\":false,\"model_explainability\":true,\"service_url\":null,\"sdk_url\":null,\"sdk_packages\":null,\"enable_onnx_compatible_models\":false,\"enable_split_onnx_featurizer_estimator_models\":false,\"vm_type\":\"STANDARD_D2_V2\",\"telemetry_verbosity\":20,\"send_telemetry\":true,\"enable_dnn\":false,\"scenario\":\"SDK-1.13.0\",\"environment_label\":null,\"force_text_dnn\":false,\"enable_feature_sweeping\":true,\"enable_early_stopping\":false,\"early_stopping_n_iters\":10,\"metrics\":null,\"enable_ensembling\":true,\"enable_stack_ensembling\":true,\"ensemble_iterations\":15,\"enable_tf\":false,\"enable_subsampling\":null,\"subsample_seed\":null,\"enable_nimbusml\":false,\"enable_streaming\":false,\"force_streaming\":false,\"track_child_runs\":true,\"allowed_private_models\":[],\"label_column_name\":\"y\",\"weight_column_name\":null,\"cv_split_column_names\":null,\"enable_local_managed\":false,\"_local_managed_run_id\":null,\"cost_mode\":1,\"lag_length\":0,\"metric_operation\":\"maximize\",\"preprocess\":true}',\n",
       "  'DataPrepJsonString': '{\\\\\"training_data\\\\\": \\\\\"{\\\\\\\\\\\\\"blocks\\\\\\\\\\\\\": [{\\\\\\\\\\\\\"id\\\\\\\\\\\\\": \\\\\\\\\\\\\"b0046e2b-f21d-4f6a-bd34-87ac5cb0ca37\\\\\\\\\\\\\", \\\\\\\\\\\\\"type\\\\\\\\\\\\\": \\\\\\\\\\\\\"Microsoft.DPrep.ReferenceBlock\\\\\\\\\\\\\", \\\\\\\\\\\\\"arguments\\\\\\\\\\\\\": {\\\\\\\\\\\\\"reference\\\\\\\\\\\\\": {\\\\\\\\\\\\\"referenceType\\\\\\\\\\\\\": 1, \\\\\\\\\\\\\"referenceContainerPath\\\\\\\\\\\\\": \\\\\\\\\\\\\"dataset://cdbe0b43-92a0-4715-838a-f2648cc7ad21/aml-quickstarts-132652/quick-starts-ws-132652/auto-ml-training-data\\\\\\\\\\\\\", \\\\\\\\\\\\\"referencedStep\\\\\\\\\\\\\": null, \\\\\\\\\\\\\"anonymousSteps\\\\\\\\\\\\\": null}}, \\\\\\\\\\\\\"localData\\\\\\\\\\\\\": {}, \\\\\\\\\\\\\"isEnabled\\\\\\\\\\\\\": true, \\\\\\\\\\\\\"name\\\\\\\\\\\\\": null, \\\\\\\\\\\\\"annotation\\\\\\\\\\\\\": null}], \\\\\\\\\\\\\"inspectors\\\\\\\\\\\\\": [], \\\\\\\\\\\\\"meta\\\\\\\\\\\\\": {\\\\\\\\\\\\\"steps_added\\\\\\\\\\\\\": \\\\\\\\\\\\\"1\\\\\\\\\\\\\"}}\\\\\", \\\\\"activities\\\\\": 0}',\n",
       "  'EnableSubsampling': None,\n",
       "  'runTemplate': 'AutoML',\n",
       "  'azureml.runsource': 'automl',\n",
       "  'display_task_type': 'classification',\n",
       "  'dependencies_versions': '{\"azureml-widgets\": \"1.19.0\", \"azureml-train\": \"1.19.0\", \"azureml-train-restclients-hyperdrive\": \"1.19.0\", \"azureml-train-core\": \"1.19.0\", \"azureml-train-automl\": \"1.19.0\", \"azureml-train-automl-runtime\": \"1.19.0\", \"azureml-train-automl-client\": \"1.19.0\", \"azureml-tensorboard\": \"1.19.0\", \"azureml-telemetry\": \"1.19.0\", \"azureml-sdk\": \"1.19.0\", \"azureml-samples\": \"0+unknown\", \"azureml-pipeline\": \"1.19.0\", \"azureml-pipeline-steps\": \"1.19.0\", \"azureml-pipeline-core\": \"1.19.0\", \"azureml-opendatasets\": \"1.19.0\", \"azureml-model-management-sdk\": \"1.0.1b6.post1\", \"azureml-mlflow\": \"1.19.0\", \"azureml-interpret\": \"1.19.0\", \"azureml-explain-model\": \"1.19.0\", \"azureml-defaults\": \"1.19.0\", \"azureml-dataset-runtime\": \"1.19.0\", \"azureml-dataprep\": \"2.6.1\", \"azureml-dataprep-rslex\": \"1.4.0\", \"azureml-dataprep-native\": \"26.0.0\", \"azureml-datadrift\": \"1.19.0\", \"azureml-core\": \"1.19.0\", \"azureml-contrib-services\": \"1.19.0\", \"azureml-contrib-server\": \"1.19.0\", \"azureml-contrib-reinforcementlearning\": \"1.19.0\", \"azureml-contrib-pipeline-steps\": \"1.19.0\", \"azureml-contrib-notebook\": \"1.19.0\", \"azureml-contrib-interpret\": \"1.19.0\", \"azureml-contrib-gbdt\": \"1.19.0\", \"azureml-contrib-fairness\": \"1.19.0\", \"azureml-contrib-dataset\": \"1.19.0\", \"azureml-cli-common\": \"1.19.0\", \"azureml-automl-runtime\": \"1.19.0\", \"azureml-automl-core\": \"1.19.0\", \"azureml-accel-models\": \"1.19.0\"}',\n",
       "  '_aml_system_scenario_identification': 'Remote.Parent',\n",
       "  'ClientType': 'SDK',\n",
       "  'environment_cpu_name': 'AzureML-AutoML',\n",
       "  'environment_cpu_label': 'prod',\n",
       "  'environment_gpu_name': 'AzureML-AutoML-GPU',\n",
       "  'environment_gpu_label': 'prod',\n",
       "  'root_attribution': 'automl',\n",
       "  'attribution': 'AutoML',\n",
       "  'Orchestrator': 'AutoML',\n",
       "  'CancelUri': 'https://southcentralus.experiments.azureml.net/jasmine/v1.0/subscriptions/cdbe0b43-92a0-4715-838a-f2648cc7ad21/resourceGroups/aml-quickstarts-132652/providers/Microsoft.MachineLearningServices/workspaces/quick-starts-ws-132652/experimentids/d10d2c46-82c2-4d55-87ff-258eadd59efa/cancel/AutoML_379473b2-1c84-44c0-8562-638f56458135',\n",
       "  'ClientSdkVersion': '1.19.0',\n",
       "  'snapshotId': '00000000-0000-0000-0000-000000000000',\n",
       "  'SetupRunId': 'AutoML_379473b2-1c84-44c0-8562-638f56458135_setup',\n",
       "  'SetupRunContainerId': 'dcid.AutoML_379473b2-1c84-44c0-8562-638f56458135_setup',\n",
       "  'errors': 'Setup iteration failed: Unidentified error, check logs in portal / compute'},\n",
       " 'inputDatasets': [],\n",
       " 'outputDatasets': [],\n",
       " 'logFiles': {}}"
      ]
     },
     "execution_count": 20,
     "metadata": {},
     "output_type": "execute_result"
    }
   ],
   "source": [
    "run_auto.wait_for_completion(show_output=True)"
   ]
  },
  {
   "cell_type": "code",
   "execution_count": null,
   "metadata": {},
   "outputs": [],
   "source": [
    "# Retrieve and save your best automl model.\n",
    "\n",
    "### YOUR CODE HERE ###"
   ]
  }
 ],
 "metadata": {
  "kernel_info": {
   "name": "python3-azureml"
  },
  "kernelspec": {
   "display_name": "Python 3",
   "language": "python",
   "name": "python3"
  },
  "language_info": {
   "codemirror_mode": {
    "name": "ipython",
    "version": 3
   },
   "file_extension": ".py",
   "mimetype": "text/x-python",
   "name": "python",
   "nbconvert_exporter": "python",
   "pygments_lexer": "ipython3",
   "version": "3.6.9"
  },
  "nteract": {
   "version": "nteract-front-end@1.0.0"
  }
 },
 "nbformat": 4,
 "nbformat_minor": 2
}
